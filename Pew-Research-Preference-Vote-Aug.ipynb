{
 "cells": [
  {
   "cell_type": "markdown",
   "metadata": {},
   "source": [
    "## <center>Pew Research Poll on Presidential Vote Preference<br>August, 2020</center>"
   ]
  },
  {
   "cell_type": "markdown",
   "metadata": {},
   "source": [
    "For each category of population we represent data as a Sunburst chart"
   ]
  },
  {
   "cell_type": "code",
   "execution_count": 1,
   "metadata": {},
   "outputs": [
    {
     "data": {
      "text/html": [
       "        <script type=\"text/javascript\">\n",
       "        window.PlotlyConfig = {MathJaxConfig: 'local'};\n",
       "        if (window.MathJax) {MathJax.Hub.Config({SVG: {font: \"STIX-Web\"}});}\n",
       "        if (typeof require !== 'undefined') {\n",
       "        require.undef(\"plotly\");\n",
       "        requirejs.config({\n",
       "            paths: {\n",
       "                'plotly': ['https://cdn.plot.ly/plotly-latest.min']\n",
       "            }\n",
       "        });\n",
       "        require(['plotly'], function(Plotly) {\n",
       "            window._Plotly = Plotly;\n",
       "        });\n",
       "        }\n",
       "        </script>\n",
       "        "
      ]
     },
     "metadata": {},
     "output_type": "display_data"
    }
   ],
   "source": [
    "import pandas as pd\n",
    "import numpy as np\n",
    "import plotly.graph_objects as go\n",
    "from plotly.subplots import make_subplots\n",
    "from plotly.offline import download_plotlyjs, init_notebook_mode,  iplot\n",
    "init_notebook_mode(connected=True)"
   ]
  },
  {
   "cell_type": "markdown",
   "metadata": {},
   "source": [
    "Set sector colors according to number of level 1 nodes inthe tree represented by a sunburst chart:"
   ]
  },
  {
   "cell_type": "code",
   "execution_count": 2,
   "metadata": {},
   "outputs": [],
   "source": [
    "colors2 = ['#ffffff', '#aaaaaa',  '#dddddd']+['#C0223B', '#000096']*2 + ['#C0223B', '#000096']*2 \n",
    "colors3 = ['#ffffff', '#777777','#aaaaaa',  '#dddddd'] +['#C0223B', '#000096']*3 + ['#C0223B', '#000096']*3\n",
    "colors4 = ['#ffffff'] + ['#aaaaaa',  '#dddddd']*2 + ['#C0223B', '#000096']*4 + ['#C0223B', '#000096']*4\n",
    "colors10 =['#ffffff'] + ['#777777','#aaaaaa', '#dddddd']*3 + ['#bbbbbb'] +  \\\n",
    "          ['#C0223B', '#000096']*10 + ['#C0223B', '#000096']*10 \n",
    "\n",
    "\n",
    "def sunburst_data(df):\n",
    "    if len(df.columns) != 7:\n",
    "        raise valueError('Your df is not derived from Pew Research data')\n",
    "       \n",
    "    categ = df.columns[0]\n",
    "    level1 = list(df[categ])\n",
    "    n = len(level1)\n",
    "    \n",
    "    labels = [categ] + level1+   [df.columns[1], df.columns[3]]*n + [df.columns[2], df.columns[4]]*n\n",
    "    ids = [str(k) for k in range(1, len(labels)+1)]   \n",
    "    parents_level1 = []\n",
    "    for k in range(2, n+2):\n",
    "        parents_level1.extend([f'{k}', f'{k}'])\n",
    "    parents =[''] + ['1']*n + parents_level1 +[f'{k}' for k in range(n+2, 3*n+2)] \n",
    "    vals  = df.values[:, 1:5]\n",
    "    temp = np.copy(vals[:, 1])\n",
    "    vals[:, 1] = vals[:, 2]\n",
    "    vals[:, 2]= temp\n",
    "    values = [1]*(n+1) + list(vals[:, :2].flatten()) + list(vals[:, 2:].flatten())\n",
    "    text = labels[:n+1] + [f'{lab}<br>{val}%' for lab, val in zip(labels[n+1:], values[n+1:])]\n",
    "    \n",
    "    if n == 2:\n",
    "        colors=colors2\n",
    "    elif n == 3: \n",
    "        colors=colors3    \n",
    "    elif n == 4: \n",
    "        colors=colors4\n",
    "    elif n == 10:\n",
    "        colors=colors10\n",
    "    else:\n",
    "        raise ValueError(f'Not implemented for {n} categories')       \n",
    "    return go.Sunburst(labels=labels,\n",
    "                       ids=ids,\n",
    "                       parents=parents,\n",
    "                       text=text,\n",
    "                       textinfo='text',\n",
    "                       hoverinfo='text',\n",
    "                       values=values,\n",
    "                       marker_colors=colors,\n",
    "                       insidetextorientation='radial',\n",
    "                       outsidetextfont_size=20\n",
    "                       )"
   ]
  },
  {
   "cell_type": "code",
   "execution_count": 3,
   "metadata": {},
   "outputs": [],
   "source": [
    "fig = make_subplots(rows=3, cols=2,\n",
    "                    vertical_spacing=0.005,\n",
    "                    horizontal_spacing=0.005,\n",
    "                    specs=[[{\"type\": \"sunburst\"}, {\"type\": \"sunburst\"}]]*3)\n",
    "\n",
    "files = ['Gender.csv', 'Age.csv', 'USR.csv', 'Race-Ethnicity.csv', 'Education.csv', 'Religion.csv']\n",
    "for k, f in enumerate(files):\n",
    "    df = pd.read_csv('Data/'+f)\n",
    "    j = k%2\n",
    "    i = (k-j)//2\n",
    "    fig.add_trace(sunburst_data(df), i+1, j+1)\n",
    "fig.update_layout(title_text='Pew Research Poll on  Presidential Vote Preference<br>August, 2020', title_x=0.5,\n",
    "                  font_family='Balto',\n",
    "                  font_size=16,\n",
    "                  height=1600, width=1100,\n",
    "                  margin_l=0\n",
    "                 );  "
   ]
  },
  {
   "cell_type": "code",
   "execution_count": 4,
   "metadata": {},
   "outputs": [
    {
     "data": {
      "application/vnd.plotly.v1+json": {
       "config": {
        "linkText": "Export to chart-studio.plotly.com/",
        "plotlyServerURL": "https://chart-studio.plotly.com/",
        "showLink": false
       },
       "data": [
        {
         "domain": {
          "x": [
           0,
           0.4975
          ],
          "y": [
           0.67,
           1
          ]
         },
         "hoverinfo": "text",
         "ids": [
          "1",
          "2",
          "3",
          "4",
          "5",
          "6",
          "7",
          "8",
          "9",
          "10",
          "11"
         ],
         "insidetextorientation": "radial",
         "labels": [
          "Gender",
          "Men",
          "Women",
          "Lean Trump",
          "Lean Biden",
          "Lean Trump",
          "Lean Biden",
          "Strongly Trump",
          "Strongly Biden",
          "Strongly Trump",
          "Strongly Biden"
         ],
         "marker": {
          "colors": [
           "#ffffff",
           "#aaaaaa",
           "#dddddd",
           "#C0223B",
           "#000096",
           "#C0223B",
           "#000096",
           "#C0223B",
           "#000096",
           "#C0223B",
           "#000096"
          ]
         },
         "outsidetextfont": {
          "size": 20
         },
         "parents": [
          "",
          "1",
          "1",
          "2",
          "2",
          "3",
          "3",
          "4",
          "5",
          "6",
          "7"
         ],
         "text": [
          "Gender",
          "Men",
          "Women",
          "Lean Trump<br>48%",
          "Lean Biden<br>50%",
          "Lean Trump<br>42%",
          "Lean Biden<br>56%",
          "Strongly Trump<br>33%",
          "Strongly Biden<br>22%",
          "Strongly Trump<br>27%",
          "Strongly Biden<br>27%"
         ],
         "textinfo": "text",
         "type": "sunburst",
         "values": [
          1,
          1,
          1,
          48,
          50,
          42,
          56,
          33,
          22,
          27,
          27
         ]
        },
        {
         "domain": {
          "x": [
           0.5025,
           1
          ],
          "y": [
           0.67,
           1
          ]
         },
         "hoverinfo": "text",
         "ids": [
          "1",
          "2",
          "3",
          "4",
          "5",
          "6",
          "7",
          "8",
          "9",
          "10",
          "11",
          "12",
          "13",
          "14",
          "15",
          "16",
          "17",
          "18",
          "19",
          "20",
          "21"
         ],
         "insidetextorientation": "radial",
         "labels": [
          "Age",
          "18-29",
          "30-49",
          "50-64",
          "65+",
          "Lean Trump",
          "Lean Biden",
          "Lean Trump",
          "Lean Biden",
          "Lean Trump",
          "Lean Biden",
          "Lean Trump",
          "Lean Biden",
          "Strongly Trump",
          "Strongly Biden",
          "Strongly Trump",
          "Strongly Biden",
          "Strongly Trump",
          "Strongly Biden",
          "Strongly Trump",
          "Strongly Biden"
         ],
         "marker": {
          "colors": [
           "#ffffff",
           "#aaaaaa",
           "#dddddd",
           "#aaaaaa",
           "#dddddd",
           "#C0223B",
           "#000096",
           "#C0223B",
           "#000096",
           "#C0223B",
           "#000096",
           "#C0223B",
           "#000096",
           "#C0223B",
           "#000096",
           "#C0223B",
           "#000096",
           "#C0223B",
           "#000096",
           "#C0223B",
           "#000096"
          ]
         },
         "outsidetextfont": {
          "size": 20
         },
         "parents": [
          "",
          "1",
          "1",
          "1",
          "1",
          "2",
          "2",
          "3",
          "3",
          "4",
          "4",
          "5",
          "5",
          "6",
          "7",
          "8",
          "9",
          "10",
          "11",
          "12",
          "13"
         ],
         "text": [
          "Age",
          "18-29",
          "30-49",
          "50-64",
          "65+",
          "Lean Trump<br>30%",
          "Lean Biden<br>67%",
          "Lean Trump<br>39%",
          "Lean Biden<br>59%",
          "Lean Trump<br>51%",
          "Lean Biden<br>48%",
          "Lean Trump<br>52%",
          "Lean Biden<br>46%",
          "Strongly Trump<br>10%",
          "Strongly Biden<br>11%",
          "Strongly Trump<br>22%",
          "Strongly Biden<br>22%",
          "Strongly Trump<br>36%",
          "Strongly Biden<br>27%",
          "Strongly Trump<br>39%",
          "Strongly Biden<br>31%"
         ],
         "textinfo": "text",
         "type": "sunburst",
         "values": [
          1,
          1,
          1,
          1,
          1,
          30,
          67,
          39,
          59,
          51,
          48,
          52,
          46,
          10,
          11,
          22,
          22,
          36,
          27,
          39,
          31
         ]
        },
        {
         "domain": {
          "x": [
           0,
           0.4975
          ],
          "y": [
           0.335,
           0.665
          ]
         },
         "hoverinfo": "text",
         "ids": [
          "1",
          "2",
          "3",
          "4",
          "5",
          "6",
          "7",
          "8",
          "9",
          "10",
          "11",
          "12",
          "13",
          "14",
          "15",
          "16"
         ],
         "insidetextorientation": "radial",
         "labels": [
          "USR",
          "Urban",
          "Suburban",
          "Rural",
          " Trump",
          "Lean Biden",
          " Trump",
          "Lean Biden",
          " Trump",
          "Lean Biden",
          "Strongly Trump",
          "Strongly Biden",
          "Strongly Trump",
          "Strongly Biden",
          "Strongly Trump",
          "Strongly Biden"
         ],
         "marker": {
          "colors": [
           "#ffffff",
           "#777777",
           "#aaaaaa",
           "#dddddd",
           "#C0223B",
           "#000096",
           "#C0223B",
           "#000096",
           "#C0223B",
           "#000096",
           "#C0223B",
           "#000096",
           "#C0223B",
           "#000096",
           "#C0223B",
           "#000096"
          ]
         },
         "outsidetextfont": {
          "size": 20
         },
         "parents": [
          "",
          "1",
          "1",
          "1",
          "2",
          "2",
          "3",
          "3",
          "4",
          "4",
          "5",
          "6",
          "7",
          "8",
          "9",
          "10"
         ],
         "text": [
          "USR",
          "Urban",
          "Suburban",
          "Rural",
          " Trump<br>30%",
          "Lean Biden<br>68%",
          " Trump<br>44%",
          "Lean Biden<br>54%",
          " Trump<br>60%",
          "Lean Biden<br>39%",
          "Strongly Trump<br>18%",
          "Strongly Biden<br>32%",
          "Strongly Trump<br>29%",
          "Strongly Biden<br>24%",
          "Strongly Trump<br>41%",
          "Strongly Biden<br>17%"
         ],
         "textinfo": "text",
         "type": "sunburst",
         "values": [
          1,
          1,
          1,
          1,
          30,
          68,
          44,
          54,
          60,
          39,
          18,
          32,
          29,
          24,
          41,
          17
         ]
        },
        {
         "domain": {
          "x": [
           0.5025,
           1
          ],
          "y": [
           0.335,
           0.665
          ]
         },
         "hoverinfo": "text",
         "ids": [
          "1",
          "2",
          "3",
          "4",
          "5",
          "6",
          "7",
          "8",
          "9",
          "10",
          "11",
          "12",
          "13",
          "14",
          "15",
          "16",
          "17",
          "18",
          "19",
          "20",
          "21"
         ],
         "insidetextorientation": "radial",
         "labels": [
          "Race/Ethnicity",
          "White",
          "Black",
          "Hispanic",
          "Asian*",
          "Lean Trump",
          "Lean Biden",
          "Lean Trump",
          "Lean Biden",
          "Lean Trump",
          "Lean Biden",
          "Lean Trump",
          "Lean Biden",
          "Strongly Trump",
          "Strongly Biden",
          "Strongly Trump",
          "Strongly Biden",
          "Strongly Trump",
          "Strongly Biden",
          "Strongly Trump",
          "Strongly Biden"
         ],
         "marker": {
          "colors": [
           "#ffffff",
           "#aaaaaa",
           "#dddddd",
           "#aaaaaa",
           "#dddddd",
           "#C0223B",
           "#000096",
           "#C0223B",
           "#000096",
           "#C0223B",
           "#000096",
           "#C0223B",
           "#000096",
           "#C0223B",
           "#000096",
           "#C0223B",
           "#000096",
           "#C0223B",
           "#000096",
           "#C0223B",
           "#000096"
          ]
         },
         "outsidetextfont": {
          "size": 20
         },
         "parents": [
          "",
          "1",
          "1",
          "1",
          "1",
          "2",
          "2",
          "3",
          "3",
          "4",
          "4",
          "5",
          "5",
          "6",
          "7",
          "8",
          "9",
          "10",
          "11",
          "12",
          "13"
         ],
         "text": [
          "Race/Ethnicity",
          "White",
          "Black",
          "Hispanic",
          "Asian*",
          "Lean Trump<br>54%",
          "Lean Biden<br>45%",
          "Lean Trump<br>8%",
          "Lean Biden<br>89%",
          "Lean Trump<br>35%",
          "Lean Biden<br>63%",
          "Lean Trump<br>31%",
          "Lean Biden<br>67%",
          "Strongly Trump<br>38%",
          "Strongly Biden<br>22%",
          "Strongly Trump<br>3%",
          "Strongly Biden<br>45%",
          "Strongly Trump<br>17%",
          "Strongly Biden<br>20%",
          "Strongly Trump<br>12%",
          "Strongly Biden<br>22%"
         ],
         "textinfo": "text",
         "type": "sunburst",
         "values": [
          1,
          1,
          1,
          1,
          1,
          54,
          45,
          8,
          89,
          35,
          63,
          31,
          67,
          38,
          22,
          3,
          45,
          17,
          20,
          12,
          22
         ]
        },
        {
         "domain": {
          "x": [
           0,
           0.4975
          ],
          "y": [
           0,
           0.33
          ]
         },
         "hoverinfo": "text",
         "ids": [
          "1",
          "2",
          "3",
          "4",
          "5",
          "6",
          "7",
          "8",
          "9",
          "10",
          "11",
          "12",
          "13",
          "14",
          "15",
          "16",
          "17",
          "18",
          "19",
          "20",
          "21"
         ],
         "insidetextorientation": "radial",
         "labels": [
          "Education",
          "Postgrad",
          "4-yearColl",
          "SomeColl",
          "HS or less",
          "Trump",
          "Lean Biden",
          "Trump",
          "Lean Biden",
          "Trump",
          "Lean Biden",
          "Trump",
          "Lean Biden",
          "Strongly Trump",
          "Strongly Biden",
          "Strongly Trump",
          "Strongly Biden",
          "Strongly Trump",
          "Strongly Biden",
          "Strongly Trump",
          "Strongly Biden"
         ],
         "marker": {
          "colors": [
           "#ffffff",
           "#aaaaaa",
           "#dddddd",
           "#aaaaaa",
           "#dddddd",
           "#C0223B",
           "#000096",
           "#C0223B",
           "#000096",
           "#C0223B",
           "#000096",
           "#C0223B",
           "#000096",
           "#C0223B",
           "#000096",
           "#C0223B",
           "#000096",
           "#C0223B",
           "#000096",
           "#C0223B",
           "#000096"
          ]
         },
         "outsidetextfont": {
          "size": 20
         },
         "parents": [
          "",
          "1",
          "1",
          "1",
          "1",
          "2",
          "2",
          "3",
          "3",
          "4",
          "4",
          "5",
          "5",
          "6",
          "7",
          "8",
          "9",
          "10",
          "11",
          "12",
          "13"
         ],
         "text": [
          "Education",
          "Postgrad",
          "4-yearColl",
          "SomeColl",
          "HS or less",
          "Trump<br>31%",
          "Lean Biden<br>68%",
          "Trump<br>38%",
          "Lean Biden<br>61%",
          "Trump<br>48%",
          "Lean Biden<br>50%",
          "Trump<br>53%",
          "Lean Biden<br>45%",
          "Strongly Trump<br>18%",
          "Strongly Biden<br>38%",
          "Strongly Trump<br>20%",
          "Strongly Biden<br>28%",
          "Strongly Trump<br>32%",
          "Strongly Biden<br>21%",
          "Strongly Trump<br>38%",
          "Strongly Biden<br>19%"
         ],
         "textinfo": "text",
         "type": "sunburst",
         "values": [
          1,
          1,
          1,
          1,
          1,
          31,
          68,
          38,
          61,
          48,
          50,
          53,
          45,
          18,
          38,
          20,
          28,
          32,
          21,
          38,
          19
         ]
        },
        {
         "domain": {
          "x": [
           0.5025,
           1
          ],
          "y": [
           0,
           0.33
          ]
         },
         "hoverinfo": "text",
         "ids": [
          "1",
          "2",
          "3",
          "4",
          "5",
          "6",
          "7",
          "8",
          "9",
          "10",
          "11",
          "12",
          "13",
          "14",
          "15",
          "16",
          "17",
          "18",
          "19",
          "20",
          "21",
          "22",
          "23",
          "24",
          "25",
          "26",
          "27",
          "28",
          "29",
          "30",
          "31",
          "32",
          "33",
          "34",
          "35",
          "36",
          "37",
          "38",
          "39",
          "40",
          "41",
          "42",
          "43",
          "44",
          "45",
          "46",
          "47",
          "48",
          "49",
          "50",
          "51"
         ],
         "insidetextorientation": "radial",
         "labels": [
          "Religion",
          "White Ev Protest",
          "White non-Ev Protest",
          "Black Protest",
          "White Cathol",
          "Hisp Cathol",
          "Jewish",
          "NET Unaffil",
          "Atheist",
          "Agnostic",
          "Nothing",
          "Trump",
          "Lean Biden",
          "Trump",
          "Lean Biden",
          "Trump",
          "Lean Biden",
          "Trump",
          "Lean Biden",
          "Trump",
          "Lean Biden",
          "Trump",
          "Lean Biden",
          "Trump",
          "Lean Biden",
          "Trump",
          "Lean Biden",
          "Trump",
          "Lean Biden",
          "Trump",
          "Lean Biden",
          "Strongly Trump",
          "Strongly Biden",
          "Strongly Trump",
          "Strongly Biden",
          "Strongly Trump",
          "Strongly Biden",
          "Strongly Trump",
          "Strongly Biden",
          "Strongly Trump",
          "Strongly Biden",
          "Strongly Trump",
          "Strongly Biden",
          "Strongly Trump",
          "Strongly Biden",
          "Strongly Trump",
          "Strongly Biden",
          "Strongly Trump",
          "Strongly Biden",
          "Strongly Trump",
          "Strongly Biden"
         ],
         "marker": {
          "colors": [
           "#ffffff",
           "#777777",
           "#aaaaaa",
           "#dddddd",
           "#777777",
           "#aaaaaa",
           "#dddddd",
           "#777777",
           "#aaaaaa",
           "#dddddd",
           "#bbbbbb",
           "#C0223B",
           "#000096",
           "#C0223B",
           "#000096",
           "#C0223B",
           "#000096",
           "#C0223B",
           "#000096",
           "#C0223B",
           "#000096",
           "#C0223B",
           "#000096",
           "#C0223B",
           "#000096",
           "#C0223B",
           "#000096",
           "#C0223B",
           "#000096",
           "#C0223B",
           "#000096",
           "#C0223B",
           "#000096",
           "#C0223B",
           "#000096",
           "#C0223B",
           "#000096",
           "#C0223B",
           "#000096",
           "#C0223B",
           "#000096",
           "#C0223B",
           "#000096",
           "#C0223B",
           "#000096",
           "#C0223B",
           "#000096",
           "#C0223B",
           "#000096",
           "#C0223B",
           "#000096"
          ]
         },
         "outsidetextfont": {
          "size": 20
         },
         "parents": [
          "",
          "1",
          "1",
          "1",
          "1",
          "1",
          "1",
          "1",
          "1",
          "1",
          "1",
          "2",
          "2",
          "3",
          "3",
          "4",
          "4",
          "5",
          "5",
          "6",
          "6",
          "7",
          "7",
          "8",
          "8",
          "9",
          "9",
          "10",
          "10",
          "11",
          "11",
          "12",
          "13",
          "14",
          "15",
          "16",
          "17",
          "18",
          "19",
          "20",
          "21",
          "22",
          "23",
          "24",
          "25",
          "26",
          "27",
          "28",
          "29",
          "30",
          "31"
         ],
         "text": [
          "Religion",
          "White Ev Protest",
          "White non-Ev Protest",
          "Black Protest",
          "White Cathol",
          "Hisp Cathol",
          "Jewish",
          "NET Unaffil",
          "Atheist",
          "Agnostic",
          "Nothing",
          "Trump<br>83%",
          "Lean Biden<br>16%",
          "Trump<br>59%",
          "Lean Biden<br>40%",
          "Trump<br>5%",
          "Lean Biden<br>92%",
          "Trump<br>59%",
          "Lean Biden<br>40%",
          "Trump<br>33%",
          "Lean Biden<br>65%",
          "Trump<br>37%",
          "Lean Biden<br>63%",
          "Trump<br>26%",
          "Lean Biden<br>72%",
          "Trump<br>13%",
          "Lean Biden<br>84%",
          "Trump<br>24%",
          "Lean Biden<br>75%",
          "Trump<br>31%",
          "Lean Biden<br>67%",
          "Strongly Trump<br>62%",
          "Strongly Biden<br>7%",
          "Strongly Trump<br>41%",
          "Strongly Biden<br>22%",
          "Strongly Trump<br>2%",
          "Strongly Biden<br>49%",
          "Strongly Trump<br>42%",
          "Strongly Biden<br>20%",
          "Strongly Trump<br>20%",
          "Strongly Biden<br>23%",
          "Strongly Trump<br>24%",
          "Strongly Biden<br>50%",
          "Strongly Trump<br>14%",
          "Strongly Biden<br>29%",
          "Strongly Trump<br>7%",
          "Strongly Biden<br>37%",
          "Strongly Trump<br>12%",
          "Strongly Biden<br>25%",
          "Strongly Trump<br>17%",
          "Strongly Biden<br>28%"
         ],
         "textinfo": "text",
         "type": "sunburst",
         "values": [
          1,
          1,
          1,
          1,
          1,
          1,
          1,
          1,
          1,
          1,
          1,
          83,
          16,
          59,
          40,
          5,
          92,
          59,
          40,
          33,
          65,
          37,
          63,
          26,
          72,
          13,
          84,
          24,
          75,
          31,
          67,
          62,
          7,
          41,
          22,
          2,
          49,
          42,
          20,
          20,
          23,
          24,
          50,
          14,
          29,
          7,
          37,
          12,
          25,
          17,
          28
         ]
        }
       ],
       "layout": {
        "font": {
         "family": "Balto",
         "size": 16
        },
        "height": 1600,
        "margin": {
         "l": 0
        },
        "template": {
         "data": {
          "bar": [
           {
            "error_x": {
             "color": "#2a3f5f"
            },
            "error_y": {
             "color": "#2a3f5f"
            },
            "marker": {
             "line": {
              "color": "#E5ECF6",
              "width": 0.5
             }
            },
            "type": "bar"
           }
          ],
          "barpolar": [
           {
            "marker": {
             "line": {
              "color": "#E5ECF6",
              "width": 0.5
             }
            },
            "type": "barpolar"
           }
          ],
          "carpet": [
           {
            "aaxis": {
             "endlinecolor": "#2a3f5f",
             "gridcolor": "white",
             "linecolor": "white",
             "minorgridcolor": "white",
             "startlinecolor": "#2a3f5f"
            },
            "baxis": {
             "endlinecolor": "#2a3f5f",
             "gridcolor": "white",
             "linecolor": "white",
             "minorgridcolor": "white",
             "startlinecolor": "#2a3f5f"
            },
            "type": "carpet"
           }
          ],
          "choropleth": [
           {
            "colorbar": {
             "outlinewidth": 0,
             "ticks": ""
            },
            "type": "choropleth"
           }
          ],
          "contour": [
           {
            "colorbar": {
             "outlinewidth": 0,
             "ticks": ""
            },
            "colorscale": [
             [
              0,
              "#0d0887"
             ],
             [
              0.1111111111111111,
              "#46039f"
             ],
             [
              0.2222222222222222,
              "#7201a8"
             ],
             [
              0.3333333333333333,
              "#9c179e"
             ],
             [
              0.4444444444444444,
              "#bd3786"
             ],
             [
              0.5555555555555556,
              "#d8576b"
             ],
             [
              0.6666666666666666,
              "#ed7953"
             ],
             [
              0.7777777777777778,
              "#fb9f3a"
             ],
             [
              0.8888888888888888,
              "#fdca26"
             ],
             [
              1,
              "#f0f921"
             ]
            ],
            "type": "contour"
           }
          ],
          "contourcarpet": [
           {
            "colorbar": {
             "outlinewidth": 0,
             "ticks": ""
            },
            "type": "contourcarpet"
           }
          ],
          "heatmap": [
           {
            "colorbar": {
             "outlinewidth": 0,
             "ticks": ""
            },
            "colorscale": [
             [
              0,
              "#0d0887"
             ],
             [
              0.1111111111111111,
              "#46039f"
             ],
             [
              0.2222222222222222,
              "#7201a8"
             ],
             [
              0.3333333333333333,
              "#9c179e"
             ],
             [
              0.4444444444444444,
              "#bd3786"
             ],
             [
              0.5555555555555556,
              "#d8576b"
             ],
             [
              0.6666666666666666,
              "#ed7953"
             ],
             [
              0.7777777777777778,
              "#fb9f3a"
             ],
             [
              0.8888888888888888,
              "#fdca26"
             ],
             [
              1,
              "#f0f921"
             ]
            ],
            "type": "heatmap"
           }
          ],
          "heatmapgl": [
           {
            "colorbar": {
             "outlinewidth": 0,
             "ticks": ""
            },
            "colorscale": [
             [
              0,
              "#0d0887"
             ],
             [
              0.1111111111111111,
              "#46039f"
             ],
             [
              0.2222222222222222,
              "#7201a8"
             ],
             [
              0.3333333333333333,
              "#9c179e"
             ],
             [
              0.4444444444444444,
              "#bd3786"
             ],
             [
              0.5555555555555556,
              "#d8576b"
             ],
             [
              0.6666666666666666,
              "#ed7953"
             ],
             [
              0.7777777777777778,
              "#fb9f3a"
             ],
             [
              0.8888888888888888,
              "#fdca26"
             ],
             [
              1,
              "#f0f921"
             ]
            ],
            "type": "heatmapgl"
           }
          ],
          "histogram": [
           {
            "marker": {
             "colorbar": {
              "outlinewidth": 0,
              "ticks": ""
             }
            },
            "type": "histogram"
           }
          ],
          "histogram2d": [
           {
            "colorbar": {
             "outlinewidth": 0,
             "ticks": ""
            },
            "colorscale": [
             [
              0,
              "#0d0887"
             ],
             [
              0.1111111111111111,
              "#46039f"
             ],
             [
              0.2222222222222222,
              "#7201a8"
             ],
             [
              0.3333333333333333,
              "#9c179e"
             ],
             [
              0.4444444444444444,
              "#bd3786"
             ],
             [
              0.5555555555555556,
              "#d8576b"
             ],
             [
              0.6666666666666666,
              "#ed7953"
             ],
             [
              0.7777777777777778,
              "#fb9f3a"
             ],
             [
              0.8888888888888888,
              "#fdca26"
             ],
             [
              1,
              "#f0f921"
             ]
            ],
            "type": "histogram2d"
           }
          ],
          "histogram2dcontour": [
           {
            "colorbar": {
             "outlinewidth": 0,
             "ticks": ""
            },
            "colorscale": [
             [
              0,
              "#0d0887"
             ],
             [
              0.1111111111111111,
              "#46039f"
             ],
             [
              0.2222222222222222,
              "#7201a8"
             ],
             [
              0.3333333333333333,
              "#9c179e"
             ],
             [
              0.4444444444444444,
              "#bd3786"
             ],
             [
              0.5555555555555556,
              "#d8576b"
             ],
             [
              0.6666666666666666,
              "#ed7953"
             ],
             [
              0.7777777777777778,
              "#fb9f3a"
             ],
             [
              0.8888888888888888,
              "#fdca26"
             ],
             [
              1,
              "#f0f921"
             ]
            ],
            "type": "histogram2dcontour"
           }
          ],
          "mesh3d": [
           {
            "colorbar": {
             "outlinewidth": 0,
             "ticks": ""
            },
            "type": "mesh3d"
           }
          ],
          "parcoords": [
           {
            "line": {
             "colorbar": {
              "outlinewidth": 0,
              "ticks": ""
             }
            },
            "type": "parcoords"
           }
          ],
          "pie": [
           {
            "automargin": true,
            "type": "pie"
           }
          ],
          "scatter": [
           {
            "marker": {
             "colorbar": {
              "outlinewidth": 0,
              "ticks": ""
             }
            },
            "type": "scatter"
           }
          ],
          "scatter3d": [
           {
            "line": {
             "colorbar": {
              "outlinewidth": 0,
              "ticks": ""
             }
            },
            "marker": {
             "colorbar": {
              "outlinewidth": 0,
              "ticks": ""
             }
            },
            "type": "scatter3d"
           }
          ],
          "scattercarpet": [
           {
            "marker": {
             "colorbar": {
              "outlinewidth": 0,
              "ticks": ""
             }
            },
            "type": "scattercarpet"
           }
          ],
          "scattergeo": [
           {
            "marker": {
             "colorbar": {
              "outlinewidth": 0,
              "ticks": ""
             }
            },
            "type": "scattergeo"
           }
          ],
          "scattergl": [
           {
            "marker": {
             "colorbar": {
              "outlinewidth": 0,
              "ticks": ""
             }
            },
            "type": "scattergl"
           }
          ],
          "scattermapbox": [
           {
            "marker": {
             "colorbar": {
              "outlinewidth": 0,
              "ticks": ""
             }
            },
            "type": "scattermapbox"
           }
          ],
          "scatterpolar": [
           {
            "marker": {
             "colorbar": {
              "outlinewidth": 0,
              "ticks": ""
             }
            },
            "type": "scatterpolar"
           }
          ],
          "scatterpolargl": [
           {
            "marker": {
             "colorbar": {
              "outlinewidth": 0,
              "ticks": ""
             }
            },
            "type": "scatterpolargl"
           }
          ],
          "scatterternary": [
           {
            "marker": {
             "colorbar": {
              "outlinewidth": 0,
              "ticks": ""
             }
            },
            "type": "scatterternary"
           }
          ],
          "surface": [
           {
            "colorbar": {
             "outlinewidth": 0,
             "ticks": ""
            },
            "colorscale": [
             [
              0,
              "#0d0887"
             ],
             [
              0.1111111111111111,
              "#46039f"
             ],
             [
              0.2222222222222222,
              "#7201a8"
             ],
             [
              0.3333333333333333,
              "#9c179e"
             ],
             [
              0.4444444444444444,
              "#bd3786"
             ],
             [
              0.5555555555555556,
              "#d8576b"
             ],
             [
              0.6666666666666666,
              "#ed7953"
             ],
             [
              0.7777777777777778,
              "#fb9f3a"
             ],
             [
              0.8888888888888888,
              "#fdca26"
             ],
             [
              1,
              "#f0f921"
             ]
            ],
            "type": "surface"
           }
          ],
          "table": [
           {
            "cells": {
             "fill": {
              "color": "#EBF0F8"
             },
             "line": {
              "color": "white"
             }
            },
            "header": {
             "fill": {
              "color": "#C8D4E3"
             },
             "line": {
              "color": "white"
             }
            },
            "type": "table"
           }
          ]
         },
         "layout": {
          "annotationdefaults": {
           "arrowcolor": "#2a3f5f",
           "arrowhead": 0,
           "arrowwidth": 1
          },
          "coloraxis": {
           "colorbar": {
            "outlinewidth": 0,
            "ticks": ""
           }
          },
          "colorscale": {
           "diverging": [
            [
             0,
             "#8e0152"
            ],
            [
             0.1,
             "#c51b7d"
            ],
            [
             0.2,
             "#de77ae"
            ],
            [
             0.3,
             "#f1b6da"
            ],
            [
             0.4,
             "#fde0ef"
            ],
            [
             0.5,
             "#f7f7f7"
            ],
            [
             0.6,
             "#e6f5d0"
            ],
            [
             0.7,
             "#b8e186"
            ],
            [
             0.8,
             "#7fbc41"
            ],
            [
             0.9,
             "#4d9221"
            ],
            [
             1,
             "#276419"
            ]
           ],
           "sequential": [
            [
             0,
             "#0d0887"
            ],
            [
             0.1111111111111111,
             "#46039f"
            ],
            [
             0.2222222222222222,
             "#7201a8"
            ],
            [
             0.3333333333333333,
             "#9c179e"
            ],
            [
             0.4444444444444444,
             "#bd3786"
            ],
            [
             0.5555555555555556,
             "#d8576b"
            ],
            [
             0.6666666666666666,
             "#ed7953"
            ],
            [
             0.7777777777777778,
             "#fb9f3a"
            ],
            [
             0.8888888888888888,
             "#fdca26"
            ],
            [
             1,
             "#f0f921"
            ]
           ],
           "sequentialminus": [
            [
             0,
             "#0d0887"
            ],
            [
             0.1111111111111111,
             "#46039f"
            ],
            [
             0.2222222222222222,
             "#7201a8"
            ],
            [
             0.3333333333333333,
             "#9c179e"
            ],
            [
             0.4444444444444444,
             "#bd3786"
            ],
            [
             0.5555555555555556,
             "#d8576b"
            ],
            [
             0.6666666666666666,
             "#ed7953"
            ],
            [
             0.7777777777777778,
             "#fb9f3a"
            ],
            [
             0.8888888888888888,
             "#fdca26"
            ],
            [
             1,
             "#f0f921"
            ]
           ]
          },
          "colorway": [
           "#636efa",
           "#EF553B",
           "#00cc96",
           "#ab63fa",
           "#FFA15A",
           "#19d3f3",
           "#FF6692",
           "#B6E880",
           "#FF97FF",
           "#FECB52"
          ],
          "font": {
           "color": "#2a3f5f"
          },
          "geo": {
           "bgcolor": "white",
           "lakecolor": "white",
           "landcolor": "#E5ECF6",
           "showlakes": true,
           "showland": true,
           "subunitcolor": "white"
          },
          "hoverlabel": {
           "align": "left"
          },
          "hovermode": "closest",
          "mapbox": {
           "style": "light"
          },
          "paper_bgcolor": "white",
          "plot_bgcolor": "#E5ECF6",
          "polar": {
           "angularaxis": {
            "gridcolor": "white",
            "linecolor": "white",
            "ticks": ""
           },
           "bgcolor": "#E5ECF6",
           "radialaxis": {
            "gridcolor": "white",
            "linecolor": "white",
            "ticks": ""
           }
          },
          "scene": {
           "xaxis": {
            "backgroundcolor": "#E5ECF6",
            "gridcolor": "white",
            "gridwidth": 2,
            "linecolor": "white",
            "showbackground": true,
            "ticks": "",
            "zerolinecolor": "white"
           },
           "yaxis": {
            "backgroundcolor": "#E5ECF6",
            "gridcolor": "white",
            "gridwidth": 2,
            "linecolor": "white",
            "showbackground": true,
            "ticks": "",
            "zerolinecolor": "white"
           },
           "zaxis": {
            "backgroundcolor": "#E5ECF6",
            "gridcolor": "white",
            "gridwidth": 2,
            "linecolor": "white",
            "showbackground": true,
            "ticks": "",
            "zerolinecolor": "white"
           }
          },
          "shapedefaults": {
           "line": {
            "color": "#2a3f5f"
           }
          },
          "ternary": {
           "aaxis": {
            "gridcolor": "white",
            "linecolor": "white",
            "ticks": ""
           },
           "baxis": {
            "gridcolor": "white",
            "linecolor": "white",
            "ticks": ""
           },
           "bgcolor": "#E5ECF6",
           "caxis": {
            "gridcolor": "white",
            "linecolor": "white",
            "ticks": ""
           }
          },
          "title": {
           "x": 0.05
          },
          "xaxis": {
           "automargin": true,
           "gridcolor": "white",
           "linecolor": "white",
           "ticks": "",
           "title": {
            "standoff": 15
           },
           "zerolinecolor": "white",
           "zerolinewidth": 2
          },
          "yaxis": {
           "automargin": true,
           "gridcolor": "white",
           "linecolor": "white",
           "ticks": "",
           "title": {
            "standoff": 15
           },
           "zerolinecolor": "white",
           "zerolinewidth": 2
          }
         }
        },
        "title": {
         "text": "Pew Research Poll on  Presidential Vote Preference<br>August, 2020",
         "x": 0.5
        },
        "width": 1100
       }
      },
      "text/html": [
       "<div>                            <div id=\"8051cab7-23ae-4f9a-9909-9898017523a3\" class=\"plotly-graph-div\" style=\"height:1600px; width:1100px;\"></div>            <script type=\"text/javascript\">                require([\"plotly\"], function(Plotly) {                    window.PLOTLYENV=window.PLOTLYENV || {};                                    if (document.getElementById(\"8051cab7-23ae-4f9a-9909-9898017523a3\")) {                    Plotly.newPlot(                        \"8051cab7-23ae-4f9a-9909-9898017523a3\",                        [{\"domain\": {\"x\": [0.0, 0.4975], \"y\": [0.67, 1.0]}, \"hoverinfo\": \"text\", \"ids\": [\"1\", \"2\", \"3\", \"4\", \"5\", \"6\", \"7\", \"8\", \"9\", \"10\", \"11\"], \"insidetextorientation\": \"radial\", \"labels\": [\"Gender\", \"Men\", \"Women\", \"Lean Trump\", \"Lean Biden\", \"Lean Trump\", \"Lean Biden\", \"Strongly Trump\", \"Strongly Biden\", \"Strongly Trump\", \"Strongly Biden\"], \"marker\": {\"colors\": [\"#ffffff\", \"#aaaaaa\", \"#dddddd\", \"#C0223B\", \"#000096\", \"#C0223B\", \"#000096\", \"#C0223B\", \"#000096\", \"#C0223B\", \"#000096\"]}, \"outsidetextfont\": {\"size\": 20}, \"parents\": [\"\", \"1\", \"1\", \"2\", \"2\", \"3\", \"3\", \"4\", \"5\", \"6\", \"7\"], \"text\": [\"Gender\", \"Men\", \"Women\", \"Lean Trump<br>48%\", \"Lean Biden<br>50%\", \"Lean Trump<br>42%\", \"Lean Biden<br>56%\", \"Strongly Trump<br>33%\", \"Strongly Biden<br>22%\", \"Strongly Trump<br>27%\", \"Strongly Biden<br>27%\"], \"textinfo\": \"text\", \"type\": \"sunburst\", \"values\": [1, 1, 1, 48, 50, 42, 56, 33, 22, 27, 27]}, {\"domain\": {\"x\": [0.5025, 1.0], \"y\": [0.67, 1.0]}, \"hoverinfo\": \"text\", \"ids\": [\"1\", \"2\", \"3\", \"4\", \"5\", \"6\", \"7\", \"8\", \"9\", \"10\", \"11\", \"12\", \"13\", \"14\", \"15\", \"16\", \"17\", \"18\", \"19\", \"20\", \"21\"], \"insidetextorientation\": \"radial\", \"labels\": [\"Age\", \"18-29\", \"30-49\", \"50-64\", \"65+\", \"Lean Trump\", \"Lean Biden\", \"Lean Trump\", \"Lean Biden\", \"Lean Trump\", \"Lean Biden\", \"Lean Trump\", \"Lean Biden\", \"Strongly Trump\", \"Strongly Biden\", \"Strongly Trump\", \"Strongly Biden\", \"Strongly Trump\", \"Strongly Biden\", \"Strongly Trump\", \"Strongly Biden\"], \"marker\": {\"colors\": [\"#ffffff\", \"#aaaaaa\", \"#dddddd\", \"#aaaaaa\", \"#dddddd\", \"#C0223B\", \"#000096\", \"#C0223B\", \"#000096\", \"#C0223B\", \"#000096\", \"#C0223B\", \"#000096\", \"#C0223B\", \"#000096\", \"#C0223B\", \"#000096\", \"#C0223B\", \"#000096\", \"#C0223B\", \"#000096\"]}, \"outsidetextfont\": {\"size\": 20}, \"parents\": [\"\", \"1\", \"1\", \"1\", \"1\", \"2\", \"2\", \"3\", \"3\", \"4\", \"4\", \"5\", \"5\", \"6\", \"7\", \"8\", \"9\", \"10\", \"11\", \"12\", \"13\"], \"text\": [\"Age\", \"18-29\", \"30-49\", \"50-64\", \"65+\", \"Lean Trump<br>30%\", \"Lean Biden<br>67%\", \"Lean Trump<br>39%\", \"Lean Biden<br>59%\", \"Lean Trump<br>51%\", \"Lean Biden<br>48%\", \"Lean Trump<br>52%\", \"Lean Biden<br>46%\", \"Strongly Trump<br>10%\", \"Strongly Biden<br>11%\", \"Strongly Trump<br>22%\", \"Strongly Biden<br>22%\", \"Strongly Trump<br>36%\", \"Strongly Biden<br>27%\", \"Strongly Trump<br>39%\", \"Strongly Biden<br>31%\"], \"textinfo\": \"text\", \"type\": \"sunburst\", \"values\": [1, 1, 1, 1, 1, 30, 67, 39, 59, 51, 48, 52, 46, 10, 11, 22, 22, 36, 27, 39, 31]}, {\"domain\": {\"x\": [0.0, 0.4975], \"y\": [0.335, 0.665]}, \"hoverinfo\": \"text\", \"ids\": [\"1\", \"2\", \"3\", \"4\", \"5\", \"6\", \"7\", \"8\", \"9\", \"10\", \"11\", \"12\", \"13\", \"14\", \"15\", \"16\"], \"insidetextorientation\": \"radial\", \"labels\": [\"USR\", \"Urban\", \"Suburban\", \"Rural\", \" Trump\", \"Lean Biden\", \" Trump\", \"Lean Biden\", \" Trump\", \"Lean Biden\", \"Strongly Trump\", \"Strongly Biden\", \"Strongly Trump\", \"Strongly Biden\", \"Strongly Trump\", \"Strongly Biden\"], \"marker\": {\"colors\": [\"#ffffff\", \"#777777\", \"#aaaaaa\", \"#dddddd\", \"#C0223B\", \"#000096\", \"#C0223B\", \"#000096\", \"#C0223B\", \"#000096\", \"#C0223B\", \"#000096\", \"#C0223B\", \"#000096\", \"#C0223B\", \"#000096\"]}, \"outsidetextfont\": {\"size\": 20}, \"parents\": [\"\", \"1\", \"1\", \"1\", \"2\", \"2\", \"3\", \"3\", \"4\", \"4\", \"5\", \"6\", \"7\", \"8\", \"9\", \"10\"], \"text\": [\"USR\", \"Urban\", \"Suburban\", \"Rural\", \" Trump<br>30%\", \"Lean Biden<br>68%\", \" Trump<br>44%\", \"Lean Biden<br>54%\", \" Trump<br>60%\", \"Lean Biden<br>39%\", \"Strongly Trump<br>18%\", \"Strongly Biden<br>32%\", \"Strongly Trump<br>29%\", \"Strongly Biden<br>24%\", \"Strongly Trump<br>41%\", \"Strongly Biden<br>17%\"], \"textinfo\": \"text\", \"type\": \"sunburst\", \"values\": [1, 1, 1, 1, 30, 68, 44, 54, 60, 39, 18, 32, 29, 24, 41, 17]}, {\"domain\": {\"x\": [0.5025, 1.0], \"y\": [0.335, 0.665]}, \"hoverinfo\": \"text\", \"ids\": [\"1\", \"2\", \"3\", \"4\", \"5\", \"6\", \"7\", \"8\", \"9\", \"10\", \"11\", \"12\", \"13\", \"14\", \"15\", \"16\", \"17\", \"18\", \"19\", \"20\", \"21\"], \"insidetextorientation\": \"radial\", \"labels\": [\"Race/Ethnicity\", \"White\", \"Black\", \"Hispanic\", \"Asian*\", \"Lean Trump\", \"Lean Biden\", \"Lean Trump\", \"Lean Biden\", \"Lean Trump\", \"Lean Biden\", \"Lean Trump\", \"Lean Biden\", \"Strongly Trump\", \"Strongly Biden\", \"Strongly Trump\", \"Strongly Biden\", \"Strongly Trump\", \"Strongly Biden\", \"Strongly Trump\", \"Strongly Biden\"], \"marker\": {\"colors\": [\"#ffffff\", \"#aaaaaa\", \"#dddddd\", \"#aaaaaa\", \"#dddddd\", \"#C0223B\", \"#000096\", \"#C0223B\", \"#000096\", \"#C0223B\", \"#000096\", \"#C0223B\", \"#000096\", \"#C0223B\", \"#000096\", \"#C0223B\", \"#000096\", \"#C0223B\", \"#000096\", \"#C0223B\", \"#000096\"]}, \"outsidetextfont\": {\"size\": 20}, \"parents\": [\"\", \"1\", \"1\", \"1\", \"1\", \"2\", \"2\", \"3\", \"3\", \"4\", \"4\", \"5\", \"5\", \"6\", \"7\", \"8\", \"9\", \"10\", \"11\", \"12\", \"13\"], \"text\": [\"Race/Ethnicity\", \"White\", \"Black\", \"Hispanic\", \"Asian*\", \"Lean Trump<br>54%\", \"Lean Biden<br>45%\", \"Lean Trump<br>8%\", \"Lean Biden<br>89%\", \"Lean Trump<br>35%\", \"Lean Biden<br>63%\", \"Lean Trump<br>31%\", \"Lean Biden<br>67%\", \"Strongly Trump<br>38%\", \"Strongly Biden<br>22%\", \"Strongly Trump<br>3%\", \"Strongly Biden<br>45%\", \"Strongly Trump<br>17%\", \"Strongly Biden<br>20%\", \"Strongly Trump<br>12%\", \"Strongly Biden<br>22%\"], \"textinfo\": \"text\", \"type\": \"sunburst\", \"values\": [1, 1, 1, 1, 1, 54, 45, 8, 89, 35, 63, 31, 67, 38, 22, 3, 45, 17, 20, 12, 22]}, {\"domain\": {\"x\": [0.0, 0.4975], \"y\": [0.0, 0.33]}, \"hoverinfo\": \"text\", \"ids\": [\"1\", \"2\", \"3\", \"4\", \"5\", \"6\", \"7\", \"8\", \"9\", \"10\", \"11\", \"12\", \"13\", \"14\", \"15\", \"16\", \"17\", \"18\", \"19\", \"20\", \"21\"], \"insidetextorientation\": \"radial\", \"labels\": [\"Education\", \"Postgrad\", \"4-yearColl\", \"SomeColl\", \"HS or less\", \"Trump\", \"Lean Biden\", \"Trump\", \"Lean Biden\", \"Trump\", \"Lean Biden\", \"Trump\", \"Lean Biden\", \"Strongly Trump\", \"Strongly Biden\", \"Strongly Trump\", \"Strongly Biden\", \"Strongly Trump\", \"Strongly Biden\", \"Strongly Trump\", \"Strongly Biden\"], \"marker\": {\"colors\": [\"#ffffff\", \"#aaaaaa\", \"#dddddd\", \"#aaaaaa\", \"#dddddd\", \"#C0223B\", \"#000096\", \"#C0223B\", \"#000096\", \"#C0223B\", \"#000096\", \"#C0223B\", \"#000096\", \"#C0223B\", \"#000096\", \"#C0223B\", \"#000096\", \"#C0223B\", \"#000096\", \"#C0223B\", \"#000096\"]}, \"outsidetextfont\": {\"size\": 20}, \"parents\": [\"\", \"1\", \"1\", \"1\", \"1\", \"2\", \"2\", \"3\", \"3\", \"4\", \"4\", \"5\", \"5\", \"6\", \"7\", \"8\", \"9\", \"10\", \"11\", \"12\", \"13\"], \"text\": [\"Education\", \"Postgrad\", \"4-yearColl\", \"SomeColl\", \"HS or less\", \"Trump<br>31%\", \"Lean Biden<br>68%\", \"Trump<br>38%\", \"Lean Biden<br>61%\", \"Trump<br>48%\", \"Lean Biden<br>50%\", \"Trump<br>53%\", \"Lean Biden<br>45%\", \"Strongly Trump<br>18%\", \"Strongly Biden<br>38%\", \"Strongly Trump<br>20%\", \"Strongly Biden<br>28%\", \"Strongly Trump<br>32%\", \"Strongly Biden<br>21%\", \"Strongly Trump<br>38%\", \"Strongly Biden<br>19%\"], \"textinfo\": \"text\", \"type\": \"sunburst\", \"values\": [1, 1, 1, 1, 1, 31, 68, 38, 61, 48, 50, 53, 45, 18, 38, 20, 28, 32, 21, 38, 19]}, {\"domain\": {\"x\": [0.5025, 1.0], \"y\": [0.0, 0.33]}, \"hoverinfo\": \"text\", \"ids\": [\"1\", \"2\", \"3\", \"4\", \"5\", \"6\", \"7\", \"8\", \"9\", \"10\", \"11\", \"12\", \"13\", \"14\", \"15\", \"16\", \"17\", \"18\", \"19\", \"20\", \"21\", \"22\", \"23\", \"24\", \"25\", \"26\", \"27\", \"28\", \"29\", \"30\", \"31\", \"32\", \"33\", \"34\", \"35\", \"36\", \"37\", \"38\", \"39\", \"40\", \"41\", \"42\", \"43\", \"44\", \"45\", \"46\", \"47\", \"48\", \"49\", \"50\", \"51\"], \"insidetextorientation\": \"radial\", \"labels\": [\"Religion\", \"White Ev Protest\", \"White non-Ev Protest\", \"Black Protest\", \"White Cathol\", \"Hisp Cathol\", \"Jewish\", \"NET Unaffil\", \"Atheist\", \"Agnostic\", \"Nothing\", \"Trump\", \"Lean Biden\", \"Trump\", \"Lean Biden\", \"Trump\", \"Lean Biden\", \"Trump\", \"Lean Biden\", \"Trump\", \"Lean Biden\", \"Trump\", \"Lean Biden\", \"Trump\", \"Lean Biden\", \"Trump\", \"Lean Biden\", \"Trump\", \"Lean Biden\", \"Trump\", \"Lean Biden\", \"Strongly Trump\", \"Strongly Biden\", \"Strongly Trump\", \"Strongly Biden\", \"Strongly Trump\", \"Strongly Biden\", \"Strongly Trump\", \"Strongly Biden\", \"Strongly Trump\", \"Strongly Biden\", \"Strongly Trump\", \"Strongly Biden\", \"Strongly Trump\", \"Strongly Biden\", \"Strongly Trump\", \"Strongly Biden\", \"Strongly Trump\", \"Strongly Biden\", \"Strongly Trump\", \"Strongly Biden\"], \"marker\": {\"colors\": [\"#ffffff\", \"#777777\", \"#aaaaaa\", \"#dddddd\", \"#777777\", \"#aaaaaa\", \"#dddddd\", \"#777777\", \"#aaaaaa\", \"#dddddd\", \"#bbbbbb\", \"#C0223B\", \"#000096\", \"#C0223B\", \"#000096\", \"#C0223B\", \"#000096\", \"#C0223B\", \"#000096\", \"#C0223B\", \"#000096\", \"#C0223B\", \"#000096\", \"#C0223B\", \"#000096\", \"#C0223B\", \"#000096\", \"#C0223B\", \"#000096\", \"#C0223B\", \"#000096\", \"#C0223B\", \"#000096\", \"#C0223B\", \"#000096\", \"#C0223B\", \"#000096\", \"#C0223B\", \"#000096\", \"#C0223B\", \"#000096\", \"#C0223B\", \"#000096\", \"#C0223B\", \"#000096\", \"#C0223B\", \"#000096\", \"#C0223B\", \"#000096\", \"#C0223B\", \"#000096\"]}, \"outsidetextfont\": {\"size\": 20}, \"parents\": [\"\", \"1\", \"1\", \"1\", \"1\", \"1\", \"1\", \"1\", \"1\", \"1\", \"1\", \"2\", \"2\", \"3\", \"3\", \"4\", \"4\", \"5\", \"5\", \"6\", \"6\", \"7\", \"7\", \"8\", \"8\", \"9\", \"9\", \"10\", \"10\", \"11\", \"11\", \"12\", \"13\", \"14\", \"15\", \"16\", \"17\", \"18\", \"19\", \"20\", \"21\", \"22\", \"23\", \"24\", \"25\", \"26\", \"27\", \"28\", \"29\", \"30\", \"31\"], \"text\": [\"Religion\", \"White Ev Protest\", \"White non-Ev Protest\", \"Black Protest\", \"White Cathol\", \"Hisp Cathol\", \"Jewish\", \"NET Unaffil\", \"Atheist\", \"Agnostic\", \"Nothing\", \"Trump<br>83%\", \"Lean Biden<br>16%\", \"Trump<br>59%\", \"Lean Biden<br>40%\", \"Trump<br>5%\", \"Lean Biden<br>92%\", \"Trump<br>59%\", \"Lean Biden<br>40%\", \"Trump<br>33%\", \"Lean Biden<br>65%\", \"Trump<br>37%\", \"Lean Biden<br>63%\", \"Trump<br>26%\", \"Lean Biden<br>72%\", \"Trump<br>13%\", \"Lean Biden<br>84%\", \"Trump<br>24%\", \"Lean Biden<br>75%\", \"Trump<br>31%\", \"Lean Biden<br>67%\", \"Strongly Trump<br>62%\", \"Strongly Biden<br>7%\", \"Strongly Trump<br>41%\", \"Strongly Biden<br>22%\", \"Strongly Trump<br>2%\", \"Strongly Biden<br>49%\", \"Strongly Trump<br>42%\", \"Strongly Biden<br>20%\", \"Strongly Trump<br>20%\", \"Strongly Biden<br>23%\", \"Strongly Trump<br>24%\", \"Strongly Biden<br>50%\", \"Strongly Trump<br>14%\", \"Strongly Biden<br>29%\", \"Strongly Trump<br>7%\", \"Strongly Biden<br>37%\", \"Strongly Trump<br>12%\", \"Strongly Biden<br>25%\", \"Strongly Trump<br>17%\", \"Strongly Biden<br>28%\"], \"textinfo\": \"text\", \"type\": \"sunburst\", \"values\": [1, 1, 1, 1, 1, 1, 1, 1, 1, 1, 1, 83, 16, 59, 40, 5, 92, 59, 40, 33, 65, 37, 63, 26, 72, 13, 84, 24, 75, 31, 67, 62, 7, 41, 22, 2, 49, 42, 20, 20, 23, 24, 50, 14, 29, 7, 37, 12, 25, 17, 28]}],                        {\"font\": {\"family\": \"Balto\", \"size\": 16}, \"height\": 1600, \"margin\": {\"l\": 0}, \"template\": {\"data\": {\"bar\": [{\"error_x\": {\"color\": \"#2a3f5f\"}, \"error_y\": {\"color\": \"#2a3f5f\"}, \"marker\": {\"line\": {\"color\": \"#E5ECF6\", \"width\": 0.5}}, \"type\": \"bar\"}], \"barpolar\": [{\"marker\": {\"line\": {\"color\": \"#E5ECF6\", \"width\": 0.5}}, \"type\": \"barpolar\"}], \"carpet\": [{\"aaxis\": {\"endlinecolor\": \"#2a3f5f\", \"gridcolor\": \"white\", \"linecolor\": \"white\", \"minorgridcolor\": \"white\", \"startlinecolor\": \"#2a3f5f\"}, \"baxis\": {\"endlinecolor\": \"#2a3f5f\", \"gridcolor\": \"white\", \"linecolor\": \"white\", \"minorgridcolor\": \"white\", \"startlinecolor\": \"#2a3f5f\"}, \"type\": \"carpet\"}], \"choropleth\": [{\"colorbar\": {\"outlinewidth\": 0, \"ticks\": \"\"}, \"type\": \"choropleth\"}], \"contour\": [{\"colorbar\": {\"outlinewidth\": 0, \"ticks\": \"\"}, \"colorscale\": [[0.0, \"#0d0887\"], [0.1111111111111111, \"#46039f\"], [0.2222222222222222, \"#7201a8\"], [0.3333333333333333, \"#9c179e\"], [0.4444444444444444, \"#bd3786\"], [0.5555555555555556, \"#d8576b\"], [0.6666666666666666, \"#ed7953\"], [0.7777777777777778, \"#fb9f3a\"], [0.8888888888888888, \"#fdca26\"], [1.0, \"#f0f921\"]], \"type\": \"contour\"}], \"contourcarpet\": [{\"colorbar\": {\"outlinewidth\": 0, \"ticks\": \"\"}, \"type\": \"contourcarpet\"}], \"heatmap\": [{\"colorbar\": {\"outlinewidth\": 0, \"ticks\": \"\"}, \"colorscale\": [[0.0, \"#0d0887\"], [0.1111111111111111, \"#46039f\"], [0.2222222222222222, \"#7201a8\"], [0.3333333333333333, \"#9c179e\"], [0.4444444444444444, \"#bd3786\"], [0.5555555555555556, \"#d8576b\"], [0.6666666666666666, \"#ed7953\"], [0.7777777777777778, \"#fb9f3a\"], [0.8888888888888888, \"#fdca26\"], [1.0, \"#f0f921\"]], \"type\": \"heatmap\"}], \"heatmapgl\": [{\"colorbar\": {\"outlinewidth\": 0, \"ticks\": \"\"}, \"colorscale\": [[0.0, \"#0d0887\"], [0.1111111111111111, \"#46039f\"], [0.2222222222222222, \"#7201a8\"], [0.3333333333333333, \"#9c179e\"], [0.4444444444444444, \"#bd3786\"], [0.5555555555555556, \"#d8576b\"], [0.6666666666666666, \"#ed7953\"], [0.7777777777777778, \"#fb9f3a\"], [0.8888888888888888, \"#fdca26\"], [1.0, \"#f0f921\"]], \"type\": \"heatmapgl\"}], \"histogram\": [{\"marker\": {\"colorbar\": {\"outlinewidth\": 0, \"ticks\": \"\"}}, \"type\": \"histogram\"}], \"histogram2d\": [{\"colorbar\": {\"outlinewidth\": 0, \"ticks\": \"\"}, \"colorscale\": [[0.0, \"#0d0887\"], [0.1111111111111111, \"#46039f\"], [0.2222222222222222, \"#7201a8\"], [0.3333333333333333, \"#9c179e\"], [0.4444444444444444, \"#bd3786\"], [0.5555555555555556, \"#d8576b\"], [0.6666666666666666, \"#ed7953\"], [0.7777777777777778, \"#fb9f3a\"], [0.8888888888888888, \"#fdca26\"], [1.0, \"#f0f921\"]], \"type\": \"histogram2d\"}], \"histogram2dcontour\": [{\"colorbar\": {\"outlinewidth\": 0, \"ticks\": \"\"}, \"colorscale\": [[0.0, \"#0d0887\"], [0.1111111111111111, \"#46039f\"], [0.2222222222222222, \"#7201a8\"], [0.3333333333333333, \"#9c179e\"], [0.4444444444444444, \"#bd3786\"], [0.5555555555555556, \"#d8576b\"], [0.6666666666666666, \"#ed7953\"], [0.7777777777777778, \"#fb9f3a\"], [0.8888888888888888, \"#fdca26\"], [1.0, \"#f0f921\"]], \"type\": \"histogram2dcontour\"}], \"mesh3d\": [{\"colorbar\": {\"outlinewidth\": 0, \"ticks\": \"\"}, \"type\": \"mesh3d\"}], \"parcoords\": [{\"line\": {\"colorbar\": {\"outlinewidth\": 0, \"ticks\": \"\"}}, \"type\": \"parcoords\"}], \"pie\": [{\"automargin\": true, \"type\": \"pie\"}], \"scatter\": [{\"marker\": {\"colorbar\": {\"outlinewidth\": 0, \"ticks\": \"\"}}, \"type\": \"scatter\"}], \"scatter3d\": [{\"line\": {\"colorbar\": {\"outlinewidth\": 0, \"ticks\": \"\"}}, \"marker\": {\"colorbar\": {\"outlinewidth\": 0, \"ticks\": \"\"}}, \"type\": \"scatter3d\"}], \"scattercarpet\": [{\"marker\": {\"colorbar\": {\"outlinewidth\": 0, \"ticks\": \"\"}}, \"type\": \"scattercarpet\"}], \"scattergeo\": [{\"marker\": {\"colorbar\": {\"outlinewidth\": 0, \"ticks\": \"\"}}, \"type\": \"scattergeo\"}], \"scattergl\": [{\"marker\": {\"colorbar\": {\"outlinewidth\": 0, \"ticks\": \"\"}}, \"type\": \"scattergl\"}], \"scattermapbox\": [{\"marker\": {\"colorbar\": {\"outlinewidth\": 0, \"ticks\": \"\"}}, \"type\": \"scattermapbox\"}], \"scatterpolar\": [{\"marker\": {\"colorbar\": {\"outlinewidth\": 0, \"ticks\": \"\"}}, \"type\": \"scatterpolar\"}], \"scatterpolargl\": [{\"marker\": {\"colorbar\": {\"outlinewidth\": 0, \"ticks\": \"\"}}, \"type\": \"scatterpolargl\"}], \"scatterternary\": [{\"marker\": {\"colorbar\": {\"outlinewidth\": 0, \"ticks\": \"\"}}, \"type\": \"scatterternary\"}], \"surface\": [{\"colorbar\": {\"outlinewidth\": 0, \"ticks\": \"\"}, \"colorscale\": [[0.0, \"#0d0887\"], [0.1111111111111111, \"#46039f\"], [0.2222222222222222, \"#7201a8\"], [0.3333333333333333, \"#9c179e\"], [0.4444444444444444, \"#bd3786\"], [0.5555555555555556, \"#d8576b\"], [0.6666666666666666, \"#ed7953\"], [0.7777777777777778, \"#fb9f3a\"], [0.8888888888888888, \"#fdca26\"], [1.0, \"#f0f921\"]], \"type\": \"surface\"}], \"table\": [{\"cells\": {\"fill\": {\"color\": \"#EBF0F8\"}, \"line\": {\"color\": \"white\"}}, \"header\": {\"fill\": {\"color\": \"#C8D4E3\"}, \"line\": {\"color\": \"white\"}}, \"type\": \"table\"}]}, \"layout\": {\"annotationdefaults\": {\"arrowcolor\": \"#2a3f5f\", \"arrowhead\": 0, \"arrowwidth\": 1}, \"coloraxis\": {\"colorbar\": {\"outlinewidth\": 0, \"ticks\": \"\"}}, \"colorscale\": {\"diverging\": [[0, \"#8e0152\"], [0.1, \"#c51b7d\"], [0.2, \"#de77ae\"], [0.3, \"#f1b6da\"], [0.4, \"#fde0ef\"], [0.5, \"#f7f7f7\"], [0.6, \"#e6f5d0\"], [0.7, \"#b8e186\"], [0.8, \"#7fbc41\"], [0.9, \"#4d9221\"], [1, \"#276419\"]], \"sequential\": [[0.0, \"#0d0887\"], [0.1111111111111111, \"#46039f\"], [0.2222222222222222, \"#7201a8\"], [0.3333333333333333, \"#9c179e\"], [0.4444444444444444, \"#bd3786\"], [0.5555555555555556, \"#d8576b\"], [0.6666666666666666, \"#ed7953\"], [0.7777777777777778, \"#fb9f3a\"], [0.8888888888888888, \"#fdca26\"], [1.0, \"#f0f921\"]], \"sequentialminus\": [[0.0, \"#0d0887\"], [0.1111111111111111, \"#46039f\"], [0.2222222222222222, \"#7201a8\"], [0.3333333333333333, \"#9c179e\"], [0.4444444444444444, \"#bd3786\"], [0.5555555555555556, \"#d8576b\"], [0.6666666666666666, \"#ed7953\"], [0.7777777777777778, \"#fb9f3a\"], [0.8888888888888888, \"#fdca26\"], [1.0, \"#f0f921\"]]}, \"colorway\": [\"#636efa\", \"#EF553B\", \"#00cc96\", \"#ab63fa\", \"#FFA15A\", \"#19d3f3\", \"#FF6692\", \"#B6E880\", \"#FF97FF\", \"#FECB52\"], \"font\": {\"color\": \"#2a3f5f\"}, \"geo\": {\"bgcolor\": \"white\", \"lakecolor\": \"white\", \"landcolor\": \"#E5ECF6\", \"showlakes\": true, \"showland\": true, \"subunitcolor\": \"white\"}, \"hoverlabel\": {\"align\": \"left\"}, \"hovermode\": \"closest\", \"mapbox\": {\"style\": \"light\"}, \"paper_bgcolor\": \"white\", \"plot_bgcolor\": \"#E5ECF6\", \"polar\": {\"angularaxis\": {\"gridcolor\": \"white\", \"linecolor\": \"white\", \"ticks\": \"\"}, \"bgcolor\": \"#E5ECF6\", \"radialaxis\": {\"gridcolor\": \"white\", \"linecolor\": \"white\", \"ticks\": \"\"}}, \"scene\": {\"xaxis\": {\"backgroundcolor\": \"#E5ECF6\", \"gridcolor\": \"white\", \"gridwidth\": 2, \"linecolor\": \"white\", \"showbackground\": true, \"ticks\": \"\", \"zerolinecolor\": \"white\"}, \"yaxis\": {\"backgroundcolor\": \"#E5ECF6\", \"gridcolor\": \"white\", \"gridwidth\": 2, \"linecolor\": \"white\", \"showbackground\": true, \"ticks\": \"\", \"zerolinecolor\": \"white\"}, \"zaxis\": {\"backgroundcolor\": \"#E5ECF6\", \"gridcolor\": \"white\", \"gridwidth\": 2, \"linecolor\": \"white\", \"showbackground\": true, \"ticks\": \"\", \"zerolinecolor\": \"white\"}}, \"shapedefaults\": {\"line\": {\"color\": \"#2a3f5f\"}}, \"ternary\": {\"aaxis\": {\"gridcolor\": \"white\", \"linecolor\": \"white\", \"ticks\": \"\"}, \"baxis\": {\"gridcolor\": \"white\", \"linecolor\": \"white\", \"ticks\": \"\"}, \"bgcolor\": \"#E5ECF6\", \"caxis\": {\"gridcolor\": \"white\", \"linecolor\": \"white\", \"ticks\": \"\"}}, \"title\": {\"x\": 0.05}, \"xaxis\": {\"automargin\": true, \"gridcolor\": \"white\", \"linecolor\": \"white\", \"ticks\": \"\", \"title\": {\"standoff\": 15}, \"zerolinecolor\": \"white\", \"zerolinewidth\": 2}, \"yaxis\": {\"automargin\": true, \"gridcolor\": \"white\", \"linecolor\": \"white\", \"ticks\": \"\", \"title\": {\"standoff\": 15}, \"zerolinecolor\": \"white\", \"zerolinewidth\": 2}}}, \"title\": {\"text\": \"Pew Research Poll on  Presidential Vote Preference<br>August, 2020\", \"x\": 0.5}, \"width\": 1100},                        {\"responsive\": true}                    ).then(function(){\n",
       "                            \n",
       "var gd = document.getElementById('8051cab7-23ae-4f9a-9909-9898017523a3');\n",
       "var x = new MutationObserver(function (mutations, observer) {{\n",
       "        var display = window.getComputedStyle(gd).display;\n",
       "        if (!display || display === 'none') {{\n",
       "            console.log([gd, 'removed!']);\n",
       "            Plotly.purge(gd);\n",
       "            observer.disconnect();\n",
       "        }}\n",
       "}});\n",
       "\n",
       "// Listen for the removal of the full notebook cells\n",
       "var notebookContainer = gd.closest('#notebook-container');\n",
       "if (notebookContainer) {{\n",
       "    x.observe(notebookContainer, {childList: true});\n",
       "}}\n",
       "\n",
       "// Listen for the clearing of the current output cell\n",
       "var outputEl = gd.closest('.output');\n",
       "if (outputEl) {{\n",
       "    x.observe(outputEl, {childList: true});\n",
       "}}\n",
       "\n",
       "                        })                };                });            </script>        </div>"
      ]
     },
     "metadata": {},
     "output_type": "display_data"
    }
   ],
   "source": [
    "iplot(fig)"
   ]
  },
  {
   "cell_type": "markdown",
   "metadata": {},
   "source": [
    "."
   ]
  }
 ],
 "metadata": {
  "kernelspec": {
   "display_name": "Python 3",
   "language": "python",
   "name": "python3"
  },
  "language_info": {
   "codemirror_mode": {
    "name": "ipython",
    "version": 3
   },
   "file_extension": ".py",
   "mimetype": "text/x-python",
   "name": "python",
   "nbconvert_exporter": "python",
   "pygments_lexer": "ipython3",
   "version": "3.7.3"
  }
 },
 "nbformat": 4,
 "nbformat_minor": 4
}
